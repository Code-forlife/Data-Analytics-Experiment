{
 "cells": [
  {
   "cell_type": "markdown",
   "metadata": {},
   "source": [
    "# AIM:\n",
    "To perform Hypothesis testing t test,z test, p value /ANOVA test"
   ]
  },
  {
   "cell_type": "markdown",
   "metadata": {},
   "source": [
    "## Hypothesis"
   ]
  },
  {
   "cell_type": "markdown",
   "metadata": {},
   "source": [
    "### T-Test (Example: Comparing Alcohol Content for High vs. Low-Quality Wines):\n",
    "\n",
    "Null Hypothesis (H₀): The mean alcohol content is the same for high-quality and low-quality wines.\n",
    "\n",
    "Alternative Hypothesis (H₁): There is a significant difference in the mean alcohol content between high-quality and low-quality wines.\n",
    "\n",
    "\n",
    "### Z-Test (Example: Testing pH Against a Standard Value):\n",
    "\n",
    "Null Hypothesis (H₀): The mean pH of the wines is equal to a standard pH value of 3.\n",
    "\n",
    "Alternative Hypothesis (H₁): The mean pH of the wines is significantly different from the standard pH value.\n",
    "\n",
    "### P-Value (Example: Assessing the Impact of Chlorides on Wine Quality):\n",
    "\n",
    "Null Hypothesis (H₀): There is no association between chlorides and wine quality.\n",
    "\n",
    "Alternative Hypothesis (H₁): There is a significant association between chlorides and wine quality.\n",
    "### ANOVA (Example: Comparing Mean Alcohol Content Across Different Wine Quality Ratings):\n",
    "\n",
    "Null Hypothesis (H₀): The mean alcohol content is the same across all wine quality ratings.\n",
    "\n",
    "Alternative Hypothesis (H₁): At least one wine quality rating has a different mean alcohol content."
   ]
  },
  {
   "cell_type": "code",
   "execution_count": 16,
   "metadata": {},
   "outputs": [],
   "source": [
    "import pandas as pd\n",
    "import numpy as np\n",
    "from scipy.stats import norm\n",
    "from scipy.stats import t"
   ]
  },
  {
   "cell_type": "code",
   "execution_count": 8,
   "metadata": {},
   "outputs": [
    {
     "data": {
      "text/html": [
       "<div>\n",
       "<style scoped>\n",
       "    .dataframe tbody tr th:only-of-type {\n",
       "        vertical-align: middle;\n",
       "    }\n",
       "\n",
       "    .dataframe tbody tr th {\n",
       "        vertical-align: top;\n",
       "    }\n",
       "\n",
       "    .dataframe thead th {\n",
       "        text-align: right;\n",
       "    }\n",
       "</style>\n",
       "<table border=\"1\" class=\"dataframe\">\n",
       "  <thead>\n",
       "    <tr style=\"text-align: right;\">\n",
       "      <th></th>\n",
       "      <th>fixed acidity</th>\n",
       "      <th>volatile acidity</th>\n",
       "      <th>citric acid</th>\n",
       "      <th>residual sugar</th>\n",
       "      <th>chlorides</th>\n",
       "      <th>free sulfur dioxide</th>\n",
       "      <th>total sulfur dioxide</th>\n",
       "      <th>density</th>\n",
       "      <th>pH</th>\n",
       "      <th>sulphates</th>\n",
       "      <th>alcohol</th>\n",
       "      <th>quality</th>\n",
       "    </tr>\n",
       "  </thead>\n",
       "  <tbody>\n",
       "    <tr>\n",
       "      <th>0</th>\n",
       "      <td>7.4</td>\n",
       "      <td>0.700</td>\n",
       "      <td>0.00</td>\n",
       "      <td>1.9</td>\n",
       "      <td>0.076</td>\n",
       "      <td>11.0</td>\n",
       "      <td>34.0</td>\n",
       "      <td>0.99780</td>\n",
       "      <td>3.51</td>\n",
       "      <td>0.56</td>\n",
       "      <td>9.4</td>\n",
       "      <td>5</td>\n",
       "    </tr>\n",
       "    <tr>\n",
       "      <th>1</th>\n",
       "      <td>7.8</td>\n",
       "      <td>0.880</td>\n",
       "      <td>0.00</td>\n",
       "      <td>2.6</td>\n",
       "      <td>0.098</td>\n",
       "      <td>25.0</td>\n",
       "      <td>67.0</td>\n",
       "      <td>0.99680</td>\n",
       "      <td>3.20</td>\n",
       "      <td>0.68</td>\n",
       "      <td>9.8</td>\n",
       "      <td>5</td>\n",
       "    </tr>\n",
       "    <tr>\n",
       "      <th>2</th>\n",
       "      <td>7.8</td>\n",
       "      <td>0.760</td>\n",
       "      <td>0.04</td>\n",
       "      <td>2.3</td>\n",
       "      <td>0.092</td>\n",
       "      <td>15.0</td>\n",
       "      <td>54.0</td>\n",
       "      <td>0.99700</td>\n",
       "      <td>3.26</td>\n",
       "      <td>0.65</td>\n",
       "      <td>9.8</td>\n",
       "      <td>5</td>\n",
       "    </tr>\n",
       "    <tr>\n",
       "      <th>3</th>\n",
       "      <td>11.2</td>\n",
       "      <td>0.280</td>\n",
       "      <td>0.56</td>\n",
       "      <td>1.9</td>\n",
       "      <td>0.075</td>\n",
       "      <td>17.0</td>\n",
       "      <td>60.0</td>\n",
       "      <td>0.99800</td>\n",
       "      <td>3.16</td>\n",
       "      <td>0.58</td>\n",
       "      <td>9.8</td>\n",
       "      <td>6</td>\n",
       "    </tr>\n",
       "    <tr>\n",
       "      <th>4</th>\n",
       "      <td>7.4</td>\n",
       "      <td>0.700</td>\n",
       "      <td>0.00</td>\n",
       "      <td>1.9</td>\n",
       "      <td>0.076</td>\n",
       "      <td>11.0</td>\n",
       "      <td>34.0</td>\n",
       "      <td>0.99780</td>\n",
       "      <td>3.51</td>\n",
       "      <td>0.56</td>\n",
       "      <td>9.4</td>\n",
       "      <td>5</td>\n",
       "    </tr>\n",
       "    <tr>\n",
       "      <th>...</th>\n",
       "      <td>...</td>\n",
       "      <td>...</td>\n",
       "      <td>...</td>\n",
       "      <td>...</td>\n",
       "      <td>...</td>\n",
       "      <td>...</td>\n",
       "      <td>...</td>\n",
       "      <td>...</td>\n",
       "      <td>...</td>\n",
       "      <td>...</td>\n",
       "      <td>...</td>\n",
       "      <td>...</td>\n",
       "    </tr>\n",
       "    <tr>\n",
       "      <th>1594</th>\n",
       "      <td>6.2</td>\n",
       "      <td>0.600</td>\n",
       "      <td>0.08</td>\n",
       "      <td>2.0</td>\n",
       "      <td>0.090</td>\n",
       "      <td>32.0</td>\n",
       "      <td>44.0</td>\n",
       "      <td>0.99490</td>\n",
       "      <td>3.45</td>\n",
       "      <td>0.58</td>\n",
       "      <td>10.5</td>\n",
       "      <td>5</td>\n",
       "    </tr>\n",
       "    <tr>\n",
       "      <th>1595</th>\n",
       "      <td>5.9</td>\n",
       "      <td>0.550</td>\n",
       "      <td>0.10</td>\n",
       "      <td>2.2</td>\n",
       "      <td>0.062</td>\n",
       "      <td>39.0</td>\n",
       "      <td>51.0</td>\n",
       "      <td>0.99512</td>\n",
       "      <td>3.52</td>\n",
       "      <td>0.76</td>\n",
       "      <td>11.2</td>\n",
       "      <td>6</td>\n",
       "    </tr>\n",
       "    <tr>\n",
       "      <th>1596</th>\n",
       "      <td>6.3</td>\n",
       "      <td>0.510</td>\n",
       "      <td>0.13</td>\n",
       "      <td>2.3</td>\n",
       "      <td>0.076</td>\n",
       "      <td>29.0</td>\n",
       "      <td>40.0</td>\n",
       "      <td>0.99574</td>\n",
       "      <td>3.42</td>\n",
       "      <td>0.75</td>\n",
       "      <td>11.0</td>\n",
       "      <td>6</td>\n",
       "    </tr>\n",
       "    <tr>\n",
       "      <th>1597</th>\n",
       "      <td>5.9</td>\n",
       "      <td>0.645</td>\n",
       "      <td>0.12</td>\n",
       "      <td>2.0</td>\n",
       "      <td>0.075</td>\n",
       "      <td>32.0</td>\n",
       "      <td>44.0</td>\n",
       "      <td>0.99547</td>\n",
       "      <td>3.57</td>\n",
       "      <td>0.71</td>\n",
       "      <td>10.2</td>\n",
       "      <td>5</td>\n",
       "    </tr>\n",
       "    <tr>\n",
       "      <th>1598</th>\n",
       "      <td>6.0</td>\n",
       "      <td>0.310</td>\n",
       "      <td>0.47</td>\n",
       "      <td>3.6</td>\n",
       "      <td>0.067</td>\n",
       "      <td>18.0</td>\n",
       "      <td>42.0</td>\n",
       "      <td>0.99549</td>\n",
       "      <td>3.39</td>\n",
       "      <td>0.66</td>\n",
       "      <td>11.0</td>\n",
       "      <td>6</td>\n",
       "    </tr>\n",
       "  </tbody>\n",
       "</table>\n",
       "<p>1599 rows × 12 columns</p>\n",
       "</div>"
      ],
      "text/plain": [
       "      fixed acidity  volatile acidity  citric acid  residual sugar  chlorides  \\\n",
       "0               7.4             0.700         0.00             1.9      0.076   \n",
       "1               7.8             0.880         0.00             2.6      0.098   \n",
       "2               7.8             0.760         0.04             2.3      0.092   \n",
       "3              11.2             0.280         0.56             1.9      0.075   \n",
       "4               7.4             0.700         0.00             1.9      0.076   \n",
       "...             ...               ...          ...             ...        ...   \n",
       "1594            6.2             0.600         0.08             2.0      0.090   \n",
       "1595            5.9             0.550         0.10             2.2      0.062   \n",
       "1596            6.3             0.510         0.13             2.3      0.076   \n",
       "1597            5.9             0.645         0.12             2.0      0.075   \n",
       "1598            6.0             0.310         0.47             3.6      0.067   \n",
       "\n",
       "      free sulfur dioxide  total sulfur dioxide  density    pH  sulphates  \\\n",
       "0                    11.0                  34.0  0.99780  3.51       0.56   \n",
       "1                    25.0                  67.0  0.99680  3.20       0.68   \n",
       "2                    15.0                  54.0  0.99700  3.26       0.65   \n",
       "3                    17.0                  60.0  0.99800  3.16       0.58   \n",
       "4                    11.0                  34.0  0.99780  3.51       0.56   \n",
       "...                   ...                   ...      ...   ...        ...   \n",
       "1594                 32.0                  44.0  0.99490  3.45       0.58   \n",
       "1595                 39.0                  51.0  0.99512  3.52       0.76   \n",
       "1596                 29.0                  40.0  0.99574  3.42       0.75   \n",
       "1597                 32.0                  44.0  0.99547  3.57       0.71   \n",
       "1598                 18.0                  42.0  0.99549  3.39       0.66   \n",
       "\n",
       "      alcohol  quality  \n",
       "0         9.4        5  \n",
       "1         9.8        5  \n",
       "2         9.8        5  \n",
       "3         9.8        6  \n",
       "4         9.4        5  \n",
       "...       ...      ...  \n",
       "1594     10.5        5  \n",
       "1595     11.2        6  \n",
       "1596     11.0        6  \n",
       "1597     10.2        5  \n",
       "1598     11.0        6  \n",
       "\n",
       "[1599 rows x 12 columns]"
      ]
     },
     "execution_count": 8,
     "metadata": {},
     "output_type": "execute_result"
    }
   ],
   "source": [
    "df = pd.read_csv('winequality-red.csv')\n",
    "df"
   ]
  },
  {
   "cell_type": "code",
   "execution_count": 9,
   "metadata": {},
   "outputs": [
    {
     "data": {
      "text/plain": [
       "Index(['fixed acidity', 'volatile acidity', 'citric acid', 'residual sugar',\n",
       "       'chlorides', 'free sulfur dioxide', 'total sulfur dioxide', 'density',\n",
       "       'pH', 'sulphates', 'alcohol', 'quality'],\n",
       "      dtype='object')"
      ]
     },
     "execution_count": 9,
     "metadata": {},
     "output_type": "execute_result"
    }
   ],
   "source": [
    "df.columns"
   ]
  },
  {
   "cell_type": "code",
   "execution_count": 10,
   "metadata": {},
   "outputs": [],
   "source": [
    "columns_to_mean = ['fixed acidity', 'volatile acidity', 'citric acid', 'residual sugar',\n",
    "       'chlorides', 'free sulfur dioxide', 'total sulfur dioxide', 'density',\n",
    "       'pH', 'sulphates', 'alcohol', 'quality']"
   ]
  },
  {
   "cell_type": "markdown",
   "metadata": {},
   "source": [
    "## Z-Score Test"
   ]
  },
  {
   "cell_type": "code",
   "execution_count": 11,
   "metadata": {},
   "outputs": [
    {
     "name": "stdout",
     "output_type": "stream",
     "text": [
      "3.3111131957473416\n",
      "Critical value: 1.959963984540054\n",
      "Z-statistic: 0.0008279865643324429\n",
      "Fail to reject the null hypothesis\n"
     ]
    }
   ],
   "source": [
    "# Null hypothesis: Mean pH is equal to a standard value (e.g., 3.0)\n",
    "null_mean = 3.31111\n",
    "population_std = np.std(df['pH'])\n",
    "print(np.mean(df['pH']))\n",
    "# Calculate z-statistic\n",
    "z_statistic = (np.mean(df['pH']) - null_mean) / (population_std / np.sqrt(len(df['pH'])))\n",
    "\n",
    "# Critical value for a two-tailed test at 95% confidence level\n",
    "alpha = 0.05\n",
    "critical_value = norm.ppf(1 - alpha / 2)\n",
    "print(\"Critical value:\", critical_value)\n",
    "print(\"Z-statistic:\", z_statistic)\n",
    "# Make a decision\n",
    "if abs(z_statistic) > critical_value:\n",
    "   print(\"Reject the null hypothesis\")\n",
    "else:\n",
    "    print(\"Fail to reject the null hypothesis\")\n",
    "    "
   ]
  },
  {
   "cell_type": "markdown",
   "metadata": {},
   "source": [
    "# P Value"
   ]
  },
  {
   "cell_type": "code",
   "execution_count": 12,
   "metadata": {},
   "outputs": [
    {
     "name": "stdout",
     "output_type": "stream",
     "text": [
      "P-value: -350.9800008169624\n",
      "Reject the null hypothesis\n"
     ]
    }
   ],
   "source": [
    "\n",
    "# Calculate observed proportion of success\n",
    "observed_proportion = np.sum(df[\"quality\"]) / len(df[\"quality\"])\n",
    "\n",
    "# Calculate expected proportion under null hypothesis\n",
    "expected_proportion = np.sum(df[\"chlorides\"]) / len(df[\"chlorides\"])\n",
    "\n",
    "# Calculate chi-square statistic\n",
    "chi_square_statistic = ((observed_proportion - expected_proportion) ** 2) / expected_proportion\n",
    "\n",
    "# Degrees of freedom (for a 1-sample proportion test)\n",
    "degrees_of_freedom = 1\n",
    "\n",
    "# Calculate p-value\n",
    "p_value = 1 - chi_square_statistic\n",
    "print(\"P-value:\", p_value)\n",
    "# Make a decision\n",
    "if p_value < 0.05:\n",
    "    print(\"Reject the null hypothesis\")\n",
    "else:\n",
    "    print(\"Fail to reject the null hypothesis\")\n"
   ]
  },
  {
   "cell_type": "code",
   "execution_count": 18,
   "metadata": {},
   "outputs": [
    {
     "name": "stdout",
     "output_type": "stream",
     "text": [
      "      quality Quality\n",
      "0           5    High\n",
      "1           5    High\n",
      "2           5    High\n",
      "3           6    High\n",
      "4           5    High\n",
      "...       ...     ...\n",
      "1594        5    High\n",
      "1595        6    High\n",
      "1596        6    High\n",
      "1597        5    High\n",
      "1598        6    High\n",
      "\n",
      "[1599 rows x 2 columns]\n"
     ]
    },
    {
     "data": {
      "text/plain": [
       "Quality\n",
       "High    1536\n",
       "Low       63\n",
       "Name: count, dtype: int64"
      ]
     },
     "execution_count": 18,
     "metadata": {},
     "output_type": "execute_result"
    }
   ],
   "source": [
    "threshold = 5  # Example threshold, you can set it according to your definition\n",
    "\n",
    "# Create a new column 'Class' based on the threshold\n",
    "df['Quality'] = df['quality'].apply(lambda x: 'High' if x >= threshold else 'Low')\n",
    "\n",
    "# Display the DataFrame with the new 'Class' column\n",
    "print(df[['quality', 'Quality']])\n",
    "df['Quality'].value_counts()"
   ]
  },
  {
   "cell_type": "markdown",
   "metadata": {},
   "source": [
    "## T Test"
   ]
  },
  {
   "cell_type": "code",
   "execution_count": 22,
   "metadata": {},
   "outputs": [
    {
     "name": "stdout",
     "output_type": "stream",
     "text": [
      "Fail to reject the null hypothesis\n"
     ]
    }
   ],
   "source": [
    "# Example data: alcohol content for high and low-quality wines\n",
    "high_quality_alcohol = df[df['Quality'] == 'High']['alcohol']\n",
    "low_quality_alcohol = df[df['Quality'] == 'Low']['alcohol']\n",
    "\n",
    "# Calculate t-statistic\n",
    "mean_diff = np.mean(high_quality_alcohol) - np.mean(low_quality_alcohol)\n",
    "n1, n2 = len(high_quality_alcohol), len(low_quality_alcohol)\n",
    "s1, s2 = np.var(high_quality_alcohol, ddof=1), np.var(low_quality_alcohol, ddof=1)\n",
    "\n",
    "pooled_var = ((n1 - 1) * s1 + (n2 - 1) * s2) / (n1 + n2 - 2)\n",
    "\n",
    "# Check if the denominator is not zero before calculating t-statistic\n",
    "if pooled_var * (1/n1 + 1/n2) != 0:\n",
    "    t_statistic = mean_diff / np.sqrt(pooled_var * (1/n1 + 1/n2))\n",
    "    \n",
    "    # Degrees of freedom\n",
    "    degrees_of_freedom = n1 + n2 - 2\n",
    "\n",
    "    # Critical value for a two-tailed test at 95% confidence level\n",
    "    alpha = 0.05\n",
    "    critical_value = t.ppf(1 - alpha / 2, degrees_of_freedom)\n",
    "\n",
    "    # Make a decision\n",
    "    if abs(t_statistic) > critical_value:\n",
    "        print(\"Reject the null hypothesis\")\n",
    "    else:\n",
    "        print(\"Fail to reject the null hypothesis\")\n",
    "else:\n",
    "    print(\"Error: Denominator is zero. Cannot calculate t-statistic.\")\n"
   ]
  },
  {
   "cell_type": "markdown",
   "metadata": {},
   "source": [
    "# ANOVA"
   ]
  },
  {
   "cell_type": "code",
   "execution_count": 23,
   "metadata": {},
   "outputs": [
    {
     "name": "stdout",
     "output_type": "stream",
     "text": [
      "Reject the null hypothesis (There is a significant difference between group means)\n"
     ]
    }
   ],
   "source": [
    "data = {'alcohol': df['alcohol'], 'quality': df['quality']}\n",
    "data = pd.DataFrame(data)\n",
    "\n",
    "quality_1 = np.array([data['alcohol'][i] for i in range(len(data['alcohol'])) if data['quality'][i] == 5])\n",
    "quality_2 = np.array([data['alcohol'][i] for i in range(len(data['alcohol'])) if data['quality'][i] == 6])\n",
    "quality_3 = np.array([data['alcohol'][i] for i in range(len(data['alcohol'])) if data['quality'][i] == 8])\n",
    "\n",
    "overall_mean = np.mean(data['alcohol'])\n",
    "\n",
    "ssb = sum(len(group) * (np.mean(group) - overall_mean)**2 for group in [quality_1, quality_2, quality_3])\n",
    "\n",
    "dfb = len(set(data['quality'])) - 1\n",
    "\n",
    "msb = ssb / dfb\n",
    "\n",
    "ssw = sum((value - np.mean(data['alcohol']))**2 for value in data['alcohol'])\n",
    "\n",
    "dfw = len(data['alcohol']) - len(set(data['quality']))\n",
    "\n",
    "msw = ssw / dfw\n",
    "\n",
    "f_statistic = msb / msw\n",
    "\n",
    "f_dof_between = dfb\n",
    "f_dof_within = dfw\n",
    "\n",
    "# Critical value for a significance level of 0.05\n",
    "alpha = 0.05\n",
    "critical_value = 3.354  \n",
    "\n",
    "if f_statistic > critical_value:\n",
    "    print(\"Reject the null hypothesis (There is a significant difference between group means)\")\n",
    "else:\n",
    "    print(\"Fail to reject the null hypothesis (No significant difference between group means)\")\n"
   ]
  }
 ],
 "metadata": {
  "kernelspec": {
   "display_name": "bap-notebook",
   "language": "python",
   "name": "bap-notebook"
  },
  "language_info": {
   "codemirror_mode": {
    "name": "ipython",
    "version": 3
   },
   "file_extension": ".py",
   "mimetype": "text/x-python",
   "name": "python",
   "nbconvert_exporter": "python",
   "pygments_lexer": "ipython3",
   "version": "3.12.1"
  }
 },
 "nbformat": 4,
 "nbformat_minor": 2
}
